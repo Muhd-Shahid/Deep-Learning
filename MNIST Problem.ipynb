{
 "cells": [
  {
   "cell_type": "code",
   "execution_count": null,
   "metadata": {},
   "outputs": [],
   "source": [
    "# import libraries\n",
    "import tensorflow as tf\n",
    "import numpy as np\n",
    "import matplotlib.pyplot as plt\n",
    "\n",
    "# import the fashion MNIST dataset\n",
    "mnist = tf.keras.datasets.fashion_mnist\n",
    "\n",
    "# get  the train and test sets\n",
    "(train_imgs, train_labels), (test_imgs, test_labels) = mnist.load_data()\n",
    "\n",
    "# set the labels\n",
    "labels = ['Top', 'Pants', 'Pullover', 'Dress', 'Coat', 'Sandal', 'Shirt', 'Sneaker', 'Bag', 'Ankle boot']\n",
    "\n",
    "# Check shapes\n",
    "print('There are {} images on this set.'.format(train_imgs.shape[0]))\n",
    "print('The images are in the {} x {} pxs format.'.format(train_imgs.shape[1], train_imgs.shape[2]))"
   ]
  },
  {
   "cell_type": "markdown",
   "metadata": {},
   "source": [
    "### preprocess the images"
   ]
  },
  {
   "cell_type": "code",
   "execution_count": null,
   "metadata": {},
   "outputs": [],
   "source": [
    "def preprocess(trainset, testset):\n",
    "  # normalize\n",
    "  trainset = trainset / 255.0\n",
    "  testset  = testset / 255.0\n",
    "  \n",
    "  # reshape dataset to single channel\n",
    "  trainset = trainset.reshape((trainset.shape[0], 28, 28, 1))\n",
    "  testset  = testset.reshape((testset.shape[0], 28, 28, 1))\n",
    "\n",
    "  return trainset, testset\n",
    "\n",
    "# normalize and reshape images\n",
    "train_imgs, test_imgs = preprocess(train_imgs, test_imgs)"
   ]
  },
  {
   "cell_type": "markdown",
   "metadata": {},
   "source": [
    "#### build the model"
   ]
  },
  {
   "cell_type": "code",
   "execution_count": null,
   "metadata": {},
   "outputs": [],
   "source": [
    "class MNISTModel(tf.keras.Model):\n",
    "  def __init__(self):\n",
    "    super(MNISTModel, self).__init__()\n",
    "    self.conv1   = tf.keras.layers.Conv2D(32, \n",
    "                                          kernel_size=(3,3), \n",
    "                                          input_shape=(28,28,1), \n",
    "                                          activation='relu')\n",
    "    \n",
    "    self.maxpool = tf.keras.layers.MaxPooling2D(pool_size=(2,2))\n",
    "    self.dropout = tf.keras.layers.Dropout(0.2)\n",
    "\n",
    "    self.flatten = tf.keras.layers.Flatten()\n",
    "    self.d1      = tf.keras.layers.Dense(128, activation='relu')\n",
    "    self.d2      = tf.keras.layers.Dense(10, activation='softmax')\n",
    "\n",
    "  def call(self, x):\n",
    "    x = self.conv1(x)\n",
    "    x = self.maxpool(x)\n",
    "    x = self.dropout(x)\n",
    "\n",
    "    x = self.flatten(x)\n",
    "    x = self.d1(x)\n",
    "    return self.d2(x)\n",
    "\n",
    "model = MNISTModel()"
   ]
  },
  {
   "cell_type": "code",
   "execution_count": null,
   "metadata": {},
   "outputs": [],
   "source": [
    "# compile\n",
    "model.compile(optimizer='adam',\n",
    "              loss='sparse_categorical_crossentropy',\n",
    "              metrics=['accuracy'])\n",
    "\n",
    "# fit\n",
    "model.fit(train_imgs, \n",
    "          train_labels, \n",
    "          epochs=10)"
   ]
  },
  {
   "cell_type": "code",
   "execution_count": null,
   "metadata": {},
   "outputs": [],
   "source": [
    "test_loss, test_acc = model.evaluate(test_imgs, test_labels, verbose=2)\n",
    "print('\\nModel accuracy: {:.0f}%'.format(test_acc*100))"
   ]
  }
 ],
 "metadata": {
  "kernelspec": {
   "display_name": "Python 3",
   "language": "python",
   "name": "python3"
  },
  "language_info": {
   "codemirror_mode": {
    "name": "ipython",
    "version": 3
   },
   "file_extension": ".py",
   "mimetype": "text/x-python",
   "name": "python",
   "nbconvert_exporter": "python",
   "pygments_lexer": "ipython3",
   "version": "3.7.1"
  }
 },
 "nbformat": 4,
 "nbformat_minor": 2
}
